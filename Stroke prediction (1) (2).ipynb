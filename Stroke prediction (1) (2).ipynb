{
 "cells": [
  {
   "cell_type": "markdown",
   "id": "bbce89e4-d066-4a49-ba6d-359ed20d5cbe",
   "metadata": {},
   "source": [
    "### Capstone project"
   ]
  },
  {
   "cell_type": "markdown",
   "id": "6c8821db-6535-4ffd-838d-15d0e46d1746",
   "metadata": {},
   "source": [
    "### Stroke prediction dataset\n",
    "\n",
    "                                        Submitted by,\n",
    "                                        Renjini R V\n",
    "                                        "
   ]
  },
  {
   "cell_type": "markdown",
   "id": "4f390093-2cf1-499a-b9b0-700c3d02379c",
   "metadata": {},
   "source": [
    "#### Contents\n",
    "1. Exploratory data analysis\n",
    "2. Data visualisation\n",
    "3. Box plot of numerical columns and their outlier treatment\n",
    "4. Outlier removal\n",
    "5. Scaling the features\n",
    "6. Label encoding\n",
    "7. Modelling the dataset"
   ]
  },
  {
   "cell_type": "markdown",
   "id": "47260297-ec50-4c28-bef2-8e0f22b76b85",
   "metadata": {},
   "source": [
    "#### Problem- To findout which factors majorly contribute to stroke disease."
   ]
  },
  {
   "cell_type": "markdown",
   "id": "c161bac9-5c85-4486-8f00-3a8062b91f62",
   "metadata": {},
   "source": [
    "#### Objective-to predict whether a patient is likely to suffer a stroke based on input parameters such as gender, age, smoking status etc."
   ]
  },
  {
   "cell_type": "code",
   "execution_count": 1,
   "id": "fc6d3106-9cdc-43a4-8fbf-d421984bbd3e",
   "metadata": {},
   "outputs": [],
   "source": [
    "import pandas as pd\n",
    "import numpy as np\n",
    "import matplotlib.pyplot as plt\n",
    "import seaborn as sns\n",
    "import warnings\n",
    "warnings.filterwarnings(\"ignore\")"
   ]
  },
  {
   "cell_type": "code",
   "execution_count": 2,
   "id": "0b8db060",
   "metadata": {},
   "outputs": [
    {
     "data": {
      "text/html": [
       "<div>\n",
       "<style scoped>\n",
       "    .dataframe tbody tr th:only-of-type {\n",
       "        vertical-align: middle;\n",
       "    }\n",
       "\n",
       "    .dataframe tbody tr th {\n",
       "        vertical-align: top;\n",
       "    }\n",
       "\n",
       "    .dataframe thead th {\n",
       "        text-align: right;\n",
       "    }\n",
       "</style>\n",
       "<table border=\"1\" class=\"dataframe\">\n",
       "  <thead>\n",
       "    <tr style=\"text-align: right;\">\n",
       "      <th></th>\n",
       "      <th>id</th>\n",
       "      <th>gender</th>\n",
       "      <th>age</th>\n",
       "      <th>hypertension</th>\n",
       "      <th>heart_disease</th>\n",
       "      <th>ever_married</th>\n",
       "      <th>work_type</th>\n",
       "      <th>Residence_type</th>\n",
       "      <th>avg_glucose_level</th>\n",
       "      <th>bmi</th>\n",
       "      <th>smoking_status</th>\n",
       "      <th>stroke</th>\n",
       "    </tr>\n",
       "  </thead>\n",
       "  <tbody>\n",
       "    <tr>\n",
       "      <th>0</th>\n",
       "      <td>9046</td>\n",
       "      <td>Male</td>\n",
       "      <td>67.0</td>\n",
       "      <td>0</td>\n",
       "      <td>1</td>\n",
       "      <td>Yes</td>\n",
       "      <td>Private</td>\n",
       "      <td>Urban</td>\n",
       "      <td>228.69</td>\n",
       "      <td>36.6</td>\n",
       "      <td>formerly smoked</td>\n",
       "      <td>1</td>\n",
       "    </tr>\n",
       "    <tr>\n",
       "      <th>1</th>\n",
       "      <td>51676</td>\n",
       "      <td>Female</td>\n",
       "      <td>61.0</td>\n",
       "      <td>0</td>\n",
       "      <td>0</td>\n",
       "      <td>Yes</td>\n",
       "      <td>Self-employed</td>\n",
       "      <td>Rural</td>\n",
       "      <td>202.21</td>\n",
       "      <td>NaN</td>\n",
       "      <td>never smoked</td>\n",
       "      <td>1</td>\n",
       "    </tr>\n",
       "    <tr>\n",
       "      <th>2</th>\n",
       "      <td>31112</td>\n",
       "      <td>Male</td>\n",
       "      <td>80.0</td>\n",
       "      <td>0</td>\n",
       "      <td>1</td>\n",
       "      <td>Yes</td>\n",
       "      <td>Private</td>\n",
       "      <td>Rural</td>\n",
       "      <td>105.92</td>\n",
       "      <td>32.5</td>\n",
       "      <td>never smoked</td>\n",
       "      <td>1</td>\n",
       "    </tr>\n",
       "    <tr>\n",
       "      <th>3</th>\n",
       "      <td>60182</td>\n",
       "      <td>Female</td>\n",
       "      <td>49.0</td>\n",
       "      <td>0</td>\n",
       "      <td>0</td>\n",
       "      <td>Yes</td>\n",
       "      <td>Private</td>\n",
       "      <td>Urban</td>\n",
       "      <td>171.23</td>\n",
       "      <td>34.4</td>\n",
       "      <td>smokes</td>\n",
       "      <td>1</td>\n",
       "    </tr>\n",
       "    <tr>\n",
       "      <th>4</th>\n",
       "      <td>1665</td>\n",
       "      <td>Female</td>\n",
       "      <td>79.0</td>\n",
       "      <td>1</td>\n",
       "      <td>0</td>\n",
       "      <td>Yes</td>\n",
       "      <td>Self-employed</td>\n",
       "      <td>Rural</td>\n",
       "      <td>174.12</td>\n",
       "      <td>24.0</td>\n",
       "      <td>never smoked</td>\n",
       "      <td>1</td>\n",
       "    </tr>\n",
       "  </tbody>\n",
       "</table>\n",
       "</div>"
      ],
      "text/plain": [
       "      id  gender   age  hypertension  heart_disease ever_married  \\\n",
       "0   9046    Male  67.0             0              1          Yes   \n",
       "1  51676  Female  61.0             0              0          Yes   \n",
       "2  31112    Male  80.0             0              1          Yes   \n",
       "3  60182  Female  49.0             0              0          Yes   \n",
       "4   1665  Female  79.0             1              0          Yes   \n",
       "\n",
       "       work_type Residence_type  avg_glucose_level   bmi   smoking_status  \\\n",
       "0        Private          Urban             228.69  36.6  formerly smoked   \n",
       "1  Self-employed          Rural             202.21   NaN     never smoked   \n",
       "2        Private          Rural             105.92  32.5     never smoked   \n",
       "3        Private          Urban             171.23  34.4           smokes   \n",
       "4  Self-employed          Rural             174.12  24.0     never smoked   \n",
       "\n",
       "   stroke  \n",
       "0       1  \n",
       "1       1  \n",
       "2       1  \n",
       "3       1  \n",
       "4       1  "
      ]
     },
     "execution_count": 2,
     "metadata": {},
     "output_type": "execute_result"
    }
   ],
   "source": [
    "data=pd.read_csv('healthcare-dataset-stroke-data.csv')\n",
    "data.head(5)"
   ]
  },
  {
   "cell_type": "markdown",
   "id": "3727a938-7b51-4a78-9b9e-f5fdfad78273",
   "metadata": {},
   "source": [
    "#### 1.Exploratory data analysis\n",
    "      "
   ]
  },
  {
   "cell_type": "code",
   "execution_count": 3,
   "id": "f8856ced",
   "metadata": {},
   "outputs": [
    {
     "data": {
      "text/html": [
       "<div>\n",
       "<style scoped>\n",
       "    .dataframe tbody tr th:only-of-type {\n",
       "        vertical-align: middle;\n",
       "    }\n",
       "\n",
       "    .dataframe tbody tr th {\n",
       "        vertical-align: top;\n",
       "    }\n",
       "\n",
       "    .dataframe thead th {\n",
       "        text-align: right;\n",
       "    }\n",
       "</style>\n",
       "<table border=\"1\" class=\"dataframe\">\n",
       "  <thead>\n",
       "    <tr style=\"text-align: right;\">\n",
       "      <th></th>\n",
       "      <th>id</th>\n",
       "      <th>age</th>\n",
       "      <th>hypertension</th>\n",
       "      <th>heart_disease</th>\n",
       "      <th>avg_glucose_level</th>\n",
       "      <th>bmi</th>\n",
       "      <th>stroke</th>\n",
       "    </tr>\n",
       "  </thead>\n",
       "  <tbody>\n",
       "    <tr>\n",
       "      <th>count</th>\n",
       "      <td>5110.000000</td>\n",
       "      <td>5110.000000</td>\n",
       "      <td>5110.000000</td>\n",
       "      <td>5110.000000</td>\n",
       "      <td>5110.000000</td>\n",
       "      <td>4909.000000</td>\n",
       "      <td>5110.000000</td>\n",
       "    </tr>\n",
       "    <tr>\n",
       "      <th>mean</th>\n",
       "      <td>36517.829354</td>\n",
       "      <td>43.226614</td>\n",
       "      <td>0.097456</td>\n",
       "      <td>0.054012</td>\n",
       "      <td>106.147677</td>\n",
       "      <td>28.893237</td>\n",
       "      <td>0.048728</td>\n",
       "    </tr>\n",
       "    <tr>\n",
       "      <th>std</th>\n",
       "      <td>21161.721625</td>\n",
       "      <td>22.612647</td>\n",
       "      <td>0.296607</td>\n",
       "      <td>0.226063</td>\n",
       "      <td>45.283560</td>\n",
       "      <td>7.854067</td>\n",
       "      <td>0.215320</td>\n",
       "    </tr>\n",
       "    <tr>\n",
       "      <th>min</th>\n",
       "      <td>67.000000</td>\n",
       "      <td>0.080000</td>\n",
       "      <td>0.000000</td>\n",
       "      <td>0.000000</td>\n",
       "      <td>55.120000</td>\n",
       "      <td>10.300000</td>\n",
       "      <td>0.000000</td>\n",
       "    </tr>\n",
       "    <tr>\n",
       "      <th>25%</th>\n",
       "      <td>17741.250000</td>\n",
       "      <td>25.000000</td>\n",
       "      <td>0.000000</td>\n",
       "      <td>0.000000</td>\n",
       "      <td>77.245000</td>\n",
       "      <td>23.500000</td>\n",
       "      <td>0.000000</td>\n",
       "    </tr>\n",
       "    <tr>\n",
       "      <th>50%</th>\n",
       "      <td>36932.000000</td>\n",
       "      <td>45.000000</td>\n",
       "      <td>0.000000</td>\n",
       "      <td>0.000000</td>\n",
       "      <td>91.885000</td>\n",
       "      <td>28.100000</td>\n",
       "      <td>0.000000</td>\n",
       "    </tr>\n",
       "    <tr>\n",
       "      <th>75%</th>\n",
       "      <td>54682.000000</td>\n",
       "      <td>61.000000</td>\n",
       "      <td>0.000000</td>\n",
       "      <td>0.000000</td>\n",
       "      <td>114.090000</td>\n",
       "      <td>33.100000</td>\n",
       "      <td>0.000000</td>\n",
       "    </tr>\n",
       "    <tr>\n",
       "      <th>max</th>\n",
       "      <td>72940.000000</td>\n",
       "      <td>82.000000</td>\n",
       "      <td>1.000000</td>\n",
       "      <td>1.000000</td>\n",
       "      <td>271.740000</td>\n",
       "      <td>97.600000</td>\n",
       "      <td>1.000000</td>\n",
       "    </tr>\n",
       "  </tbody>\n",
       "</table>\n",
       "</div>"
      ],
      "text/plain": [
       "                 id          age  hypertension  heart_disease  \\\n",
       "count   5110.000000  5110.000000   5110.000000    5110.000000   \n",
       "mean   36517.829354    43.226614      0.097456       0.054012   \n",
       "std    21161.721625    22.612647      0.296607       0.226063   \n",
       "min       67.000000     0.080000      0.000000       0.000000   \n",
       "25%    17741.250000    25.000000      0.000000       0.000000   \n",
       "50%    36932.000000    45.000000      0.000000       0.000000   \n",
       "75%    54682.000000    61.000000      0.000000       0.000000   \n",
       "max    72940.000000    82.000000      1.000000       1.000000   \n",
       "\n",
       "       avg_glucose_level          bmi       stroke  \n",
       "count        5110.000000  4909.000000  5110.000000  \n",
       "mean          106.147677    28.893237     0.048728  \n",
       "std            45.283560     7.854067     0.215320  \n",
       "min            55.120000    10.300000     0.000000  \n",
       "25%            77.245000    23.500000     0.000000  \n",
       "50%            91.885000    28.100000     0.000000  \n",
       "75%           114.090000    33.100000     0.000000  \n",
       "max           271.740000    97.600000     1.000000  "
      ]
     },
     "execution_count": 3,
     "metadata": {},
     "output_type": "execute_result"
    }
   ],
   "source": [
    "data.describe()"
   ]
  },
  {
   "cell_type": "code",
   "execution_count": 4,
   "id": "0d8df2bf",
   "metadata": {},
   "outputs": [
    {
     "data": {
      "text/plain": [
       "(5110, 12)"
      ]
     },
     "execution_count": 4,
     "metadata": {},
     "output_type": "execute_result"
    }
   ],
   "source": [
    "data.shape"
   ]
  },
  {
   "cell_type": "code",
   "execution_count": 5,
   "id": "85874a76",
   "metadata": {
    "scrolled": true
   },
   "outputs": [
    {
     "name": "stdout",
     "output_type": "stream",
     "text": [
      "<class 'pandas.core.frame.DataFrame'>\n",
      "RangeIndex: 5110 entries, 0 to 5109\n",
      "Data columns (total 12 columns):\n",
      " #   Column             Non-Null Count  Dtype  \n",
      "---  ------             --------------  -----  \n",
      " 0   id                 5110 non-null   int64  \n",
      " 1   gender             5110 non-null   object \n",
      " 2   age                5110 non-null   float64\n",
      " 3   hypertension       5110 non-null   int64  \n",
      " 4   heart_disease      5110 non-null   int64  \n",
      " 5   ever_married       5110 non-null   object \n",
      " 6   work_type          5110 non-null   object \n",
      " 7   Residence_type     5110 non-null   object \n",
      " 8   avg_glucose_level  5110 non-null   float64\n",
      " 9   bmi                4909 non-null   float64\n",
      " 10  smoking_status     5110 non-null   object \n",
      " 11  stroke             5110 non-null   int64  \n",
      "dtypes: float64(3), int64(4), object(5)\n",
      "memory usage: 479.2+ KB\n"
     ]
    }
   ],
   "source": [
    "data.info()"
   ]
  },
  {
   "cell_type": "code",
   "execution_count": 6,
   "id": "1a1cb7a0",
   "metadata": {},
   "outputs": [],
   "source": [
    "# Drop ID column if not necessary for analysis\n",
    "data = data.drop(columns=['id'], errors='ignore')"
   ]
  },
  {
   "cell_type": "code",
   "execution_count": 7,
   "id": "26e5feb1",
   "metadata": {},
   "outputs": [
    {
     "name": "stdout",
     "output_type": "stream",
     "text": [
      "\n",
      "Numerical Columns: ['age', 'hypertension', 'heart_disease', 'avg_glucose_level', 'bmi', 'stroke']\n",
      "Categorical Columns: ['gender', 'ever_married', 'work_type', 'Residence_type', 'smoking_status']\n"
     ]
    }
   ],
   "source": [
    "# Identify numerical and categorical columns\n",
    "numerical_cols = data.select_dtypes(include=['int64', 'float64']).columns.tolist()\n",
    "categorical_cols = data.select_dtypes(include=['object']).columns.tolist()\n",
    "print(\"\\nNumerical Columns:\", numerical_cols)\n",
    "print(\"Categorical Columns:\", categorical_cols)"
   ]
  },
  {
   "cell_type": "markdown",
   "id": "e16ce63d",
   "metadata": {},
   "source": [
    "The dataset contains 5,110 entries and 12 columns.\n",
    "\n",
    "Numerical Columns:\n",
    "\n",
    "age, hypertension, heart_disease, avg_glucose_level, bmi, stroke\n",
    "Categorical Columns:\n",
    "\n",
    "gender, ever_married, work_type, Residence_type, smoking_status"
   ]
  },
  {
   "cell_type": "code",
   "execution_count": 8,
   "id": "2f2a8ba0",
   "metadata": {},
   "outputs": [
    {
     "name": "stdout",
     "output_type": "stream",
     "text": [
      "               age  hypertension  heart_disease  avg_glucose_level  \\\n",
      "count  5110.000000   5110.000000    5110.000000        5110.000000   \n",
      "mean     43.226614      0.097456       0.054012         106.147677   \n",
      "std      22.612647      0.296607       0.226063          45.283560   \n",
      "min       0.080000      0.000000       0.000000          55.120000   \n",
      "25%      25.000000      0.000000       0.000000          77.245000   \n",
      "50%      45.000000      0.000000       0.000000          91.885000   \n",
      "75%      61.000000      0.000000       0.000000         114.090000   \n",
      "max      82.000000      1.000000       1.000000         271.740000   \n",
      "\n",
      "               bmi       stroke  \n",
      "count  4909.000000  5110.000000  \n",
      "mean     28.893237     0.048728  \n",
      "std       7.854067     0.215320  \n",
      "min      10.300000     0.000000  \n",
      "25%      23.500000     0.000000  \n",
      "50%      28.100000     0.000000  \n",
      "75%      33.100000     0.000000  \n",
      "max      97.600000     1.000000  \n"
     ]
    }
   ],
   "source": [
    "# Descriptive statistics for numerical columns\n",
    "print(data[numerical_cols].describe())"
   ]
  },
  {
   "cell_type": "code",
   "execution_count": 9,
   "id": "dc6a730d",
   "metadata": {},
   "outputs": [
    {
     "name": "stdout",
     "output_type": "stream",
     "text": [
      "\n",
      "Null Values in Each Column:\n",
      "gender                 0\n",
      "age                    0\n",
      "hypertension           0\n",
      "heart_disease          0\n",
      "ever_married           0\n",
      "work_type              0\n",
      "Residence_type         0\n",
      "avg_glucose_level      0\n",
      "bmi                  201\n",
      "smoking_status         0\n",
      "stroke                 0\n",
      "dtype: int64\n"
     ]
    }
   ],
   "source": [
    "# Check for null values\n",
    "print(\"\\nNull Values in Each Column:\")\n",
    "print(data.isnull().sum())"
   ]
  },
  {
   "cell_type": "markdown",
   "id": "8701293a",
   "metadata": {},
   "source": [
    "The bmi column has some missing values, with only 4,909 non-null entries.\n",
    "The dataset includes unique patient IDs in the id column, which can be dropped for analysis purposes if it's not essential."
   ]
  },
  {
   "cell_type": "code",
   "execution_count": 10,
   "id": "78617af0",
   "metadata": {},
   "outputs": [],
   "source": [
    "# Handle missing values in 'bmi' by filling with median (or other strategies as needed)\n",
    "data['bmi'].fillna(data['bmi'].median(), inplace=True)"
   ]
  },
  {
   "cell_type": "code",
   "execution_count": 11,
   "id": "c62b1db6",
   "metadata": {},
   "outputs": [
    {
     "name": "stdout",
     "output_type": "stream",
     "text": [
      "\n",
      "Null Values in Each Column:\n",
      "gender               0\n",
      "age                  0\n",
      "hypertension         0\n",
      "heart_disease        0\n",
      "ever_married         0\n",
      "work_type            0\n",
      "Residence_type       0\n",
      "avg_glucose_level    0\n",
      "bmi                  0\n",
      "smoking_status       0\n",
      "stroke               0\n",
      "dtype: int64\n"
     ]
    }
   ],
   "source": [
    "print(\"\\nNull Values in Each Column:\")\n",
    "print(data.isnull().sum())"
   ]
  },
  {
   "cell_type": "code",
   "execution_count": 12,
   "id": "217c212a",
   "metadata": {},
   "outputs": [
    {
     "name": "stdout",
     "output_type": "stream",
     "text": [
      "\n",
      "Number of duplicate rows: 0\n"
     ]
    }
   ],
   "source": [
    "# Check for duplicates\n",
    "duplicates = data.duplicated().sum()\n",
    "print(f\"\\nNumber of duplicate rows: {duplicates}\")\n"
   ]
  },
  {
   "cell_type": "code",
   "execution_count": 13,
   "id": "7b791295",
   "metadata": {},
   "outputs": [
    {
     "name": "stdout",
     "output_type": "stream",
     "text": [
      "\n",
      "Skewness of numerical columns:\n",
      "age                 -0.137059\n",
      "hypertension         2.715392\n",
      "heart_disease        3.947244\n",
      "avg_glucose_level    1.572284\n",
      "bmi                  1.088187\n",
      "stroke               4.193284\n",
      "dtype: float64\n",
      "\n",
      "Kurtosis of numerical columns:\n",
      "age                  -0.991010\n",
      "hypertension          5.375456\n",
      "heart_disease        13.586052\n",
      "avg_glucose_level     1.680479\n",
      "bmi                   3.635306\n",
      "stroke               15.589736\n",
      "dtype: float64\n"
     ]
    }
   ],
   "source": [
    "# Skewness and kurtosis for numerical columns\n",
    "print(\"\\nSkewness of numerical columns:\")\n",
    "print(data[numerical_cols].skew())\n",
    "print(\"\\nKurtosis of numerical columns:\")\n",
    "print(data[numerical_cols].kurt())"
   ]
  },
  {
   "cell_type": "markdown",
   "id": "3f156ec1-2208-41f9-9d22-5fd0ecc0dd10",
   "metadata": {},
   "source": [
    "### 2.Visualisation "
   ]
  },
  {
   "cell_type": "code",
   "execution_count": 14,
   "id": "97272ded-07a9-4425-af16-eee3d2ee6c65",
   "metadata": {},
   "outputs": [
    {
     "data": {
      "image/png": "[encoded data removed]",
      "text/plain": [
       "<Figure size 640x480 with 1 Axes>"
      ]
     },
     "metadata": {},
     "output_type": "display_data"
    }
   ],
   "source": [
    "pie_df=pd.DataFrame(data.groupby('stroke')['stroke'].count())\n",
    "plt.pie(pie_df['stroke'], labels=['no stroke', 'stroke'], autopct='%.2f%%', radius=1)\n",
    "plt.show()\n"
   ]
  },
  {
   "cell_type": "code",
   "execution_count": 15,
   "id": "eab34b2a",
   "metadata": {},
   "outputs": [
    {
     "data": {
      "image/png": "[encoded data removed]",
      "text/plain": [
       "<Figure size 1800x1200 with 12 Axes>"
      ]
     },
     "metadata": {},
     "output_type": "display_data"
    }
   ],
   "source": [
    "import scipy.stats as stats\n",
    "\n",
    "# Set up a larger figure size for clarity\n",
    "plt.figure(figsize=(18, 12))\n",
    "\n",
    "# Histogram and Box Plot for each numerical column\n",
    "for i, col in enumerate(['age', 'hypertension', 'heart_disease', 'avg_glucose_level', 'bmi', 'stroke']):\n",
    "    plt.subplot(3, 4, i + 1)\n",
    "    sns.histplot(data[col], kde=True, color=\"red\", edgecolor=\"black\")\n",
    "    plt.title(f\"Histogram and KDE of {col}\")\n",
    "\n",
    "    plt.subplot(3, 4, i + 7)\n",
    "    sns.boxplot(x=data[col], color=\"lightcoral\")\n",
    "    plt.title(f\"Box Plot of {col}\")\n",
    "\n",
    "plt.tight_layout()\n",
    "plt.show()\n",
    "\n"
   ]
  },
  {
   "cell_type": "markdown",
   "id": "9ef40ef3-cf44-4def-8910-814ec3cd2eaf",
   "metadata": {},
   "source": [
    "#### The above figures showing the histogram and boxplot of variables. "
   ]
  },
  {
   "cell_type": "code",
   "execution_count": 16,
   "id": "55e809fd",
   "metadata": {},
   "outputs": [
    {
     "data": {
      "image/png": "[encoded data removed]",
      "text/plain": [
       "<Figure size 1200x700 with 1 Axes>"
      ]
     },
     "metadata": {},
     "output_type": "display_data"
    }
   ],
   "source": [
    "plt.figure(figsize=(12,7))\n",
    "sns.histplot(data, x='bmi', hue='stroke', element= 'bars', stat='density', common_norm= False )\n",
    "plt.title('Stroke vs no stroke by bmi')\n",
    "plt.show()"
   ]
  },
  {
   "cell_type": "code",
   "execution_count": 17,
   "id": "34faa0bd",
   "metadata": {},
   "outputs": [
    {
     "data": {
      "image/png": "[encoded data removed]",
      "text/plain": [
       "<Figure size 1200x700 with 1 Axes>"
      ]
     },
     "metadata": {},
     "output_type": "display_data"
    }
   ],
   "source": [
    "plt.figure(figsize=(12,7))\n",
    "sns.histplot(data, x='avg_glucose_level', hue='stroke', element= 'bars', stat='density', common_norm= False )\n",
    "plt.title('Stroke vs no stroke by avg_glucose_level')\n",
    "plt.show()"
   ]
  },
  {
   "cell_type": "code",
   "execution_count": 18,
   "id": "3f31f9c3-3659-4cb0-8549-de7ff9f13efd",
   "metadata": {},
   "outputs": [
    {
     "data": {
      "image/png": "[encoded data removed]",
      "text/plain": [
       "<Figure size 1200x700 with 1 Axes>"
      ]
     },
     "metadata": {},
     "output_type": "display_data"
    }
   ],
   "source": [
    "plt.figure(figsize=(12,7))\n",
    "sns.histplot(data, x='age', hue='stroke', element= 'bars', stat='density', common_norm= False )\n",
    "plt.title('Stroke vs no stroke by age')\n",
    "plt.show()"
   ]
  },
  {
   "cell_type": "markdown",
   "id": "100033f0-eb2f-4db2-bcfc-624ae3384fb7",
   "metadata": {},
   "source": [
    "##### The above bar graphs showing the distribution of stroke based on age, average glucose level, bmi. As per the dataset, People having bmi between 20 and 40 is showing the high chance of getting stroke. When the glucose level increases , the chance of  getting stroke also increase.Poeple aged above 50 shows the risk of stroke."
   ]
  },
  {
   "cell_type": "code",
   "execution_count": 19,
   "id": "e19fa923-a904-4cbf-8291-828a553bb3a3",
   "metadata": {},
   "outputs": [
    {
     "data": {
      "text/html": [
       "<div>\n",
       "<style scoped>\n",
       "    .dataframe tbody tr th:only-of-type {\n",
       "        vertical-align: middle;\n",
       "    }\n",
       "\n",
       "    .dataframe tbody tr th {\n",
       "        vertical-align: top;\n",
       "    }\n",
       "\n",
       "    .dataframe thead th {\n",
       "        text-align: right;\n",
       "    }\n",
       "</style>\n",
       "<table border=\"1\" class=\"dataframe\">\n",
       "  <thead>\n",
       "    <tr style=\"text-align: right;\">\n",
       "      <th></th>\n",
       "      <th>age</th>\n",
       "      <th>hypertension</th>\n",
       "      <th>heart_disease</th>\n",
       "      <th>avg_glucose_level</th>\n",
       "      <th>bmi</th>\n",
       "      <th>stroke</th>\n",
       "    </tr>\n",
       "  </thead>\n",
       "  <tbody>\n",
       "    <tr>\n",
       "      <th>age</th>\n",
       "      <td>1.000000</td>\n",
       "      <td>0.276398</td>\n",
       "      <td>0.263796</td>\n",
       "      <td>0.238171</td>\n",
       "      <td>0.324296</td>\n",
       "      <td>0.245257</td>\n",
       "    </tr>\n",
       "    <tr>\n",
       "      <th>hypertension</th>\n",
       "      <td>0.276398</td>\n",
       "      <td>1.000000</td>\n",
       "      <td>0.108306</td>\n",
       "      <td>0.174474</td>\n",
       "      <td>0.158293</td>\n",
       "      <td>0.127904</td>\n",
       "    </tr>\n",
       "    <tr>\n",
       "      <th>heart_disease</th>\n",
       "      <td>0.263796</td>\n",
       "      <td>0.108306</td>\n",
       "      <td>1.000000</td>\n",
       "      <td>0.161857</td>\n",
       "      <td>0.036916</td>\n",
       "      <td>0.134914</td>\n",
       "    </tr>\n",
       "    <tr>\n",
       "      <th>avg_glucose_level</th>\n",
       "      <td>0.238171</td>\n",
       "      <td>0.174474</td>\n",
       "      <td>0.161857</td>\n",
       "      <td>1.000000</td>\n",
       "      <td>0.166876</td>\n",
       "      <td>0.131945</td>\n",
       "    </tr>\n",
       "    <tr>\n",
       "      <th>bmi</th>\n",
       "      <td>0.324296</td>\n",
       "      <td>0.158293</td>\n",
       "      <td>0.036916</td>\n",
       "      <td>0.166876</td>\n",
       "      <td>1.000000</td>\n",
       "      <td>0.036110</td>\n",
       "    </tr>\n",
       "    <tr>\n",
       "      <th>stroke</th>\n",
       "      <td>0.245257</td>\n",
       "      <td>0.127904</td>\n",
       "      <td>0.134914</td>\n",
       "      <td>0.131945</td>\n",
       "      <td>0.036110</td>\n",
       "      <td>1.000000</td>\n",
       "    </tr>\n",
       "  </tbody>\n",
       "</table>\n",
       "</div>"
      ],
      "text/plain": [
       "                        age  hypertension  heart_disease  avg_glucose_level  \\\n",
       "age                1.000000      0.276398       0.263796           0.238171   \n",
       "hypertension       0.276398      1.000000       0.108306           0.174474   \n",
       "heart_disease      0.263796      0.108306       1.000000           0.161857   \n",
       "avg_glucose_level  0.238171      0.174474       0.161857           1.000000   \n",
       "bmi                0.324296      0.158293       0.036916           0.166876   \n",
       "stroke             0.245257      0.127904       0.134914           0.131945   \n",
       "\n",
       "                        bmi    stroke  \n",
       "age                0.324296  0.245257  \n",
       "hypertension       0.158293  0.127904  \n",
       "heart_disease      0.036916  0.134914  \n",
       "avg_glucose_level  0.166876  0.131945  \n",
       "bmi                1.000000  0.036110  \n",
       "stroke             0.036110  1.000000  "
      ]
     },
     "execution_count": 19,
     "metadata": {},
     "output_type": "execute_result"
    }
   ],
   "source": [
    "# Correlation matrix\n",
    "correlation_matrix = data[numerical_cols].corr()\n",
    "correlation_matrix\n"
   ]
  },
  {
   "cell_type": "code",
   "execution_count": 20,
   "id": "5d7b1dd4",
   "metadata": {},
   "outputs": [
    {
     "data": {
      "image/png": "[encoded data removed]",
      "text/plain": [
       "<Figure size 1200x800 with 2 Axes>"
      ]
     },
     "metadata": {},
     "output_type": "display_data"
    }
   ],
   "source": [
    "# Heatmap for correlation matrix\n",
    "plt.figure(figsize=(12, 8))\n",
    "sns.heatmap(correlation_matrix, annot=True, cmap='coolwarm', center=0, linewidths=0.5)\n",
    "plt.title(\"Correlation Heatmap of Numerical Columns\")\n",
    "plt.show()"
   ]
  },
  {
   "cell_type": "markdown",
   "id": "0a7c053c-23d9-46f3-acab-f3421e45ee3d",
   "metadata": {},
   "source": [
    "##### The correlation map is showing positive correlation among numerical variables. 0.037  between bmi and heart disease is very close to zero, so it indicates that BMI has a minimal linear association with heart disease based on this data. Since the correlation is so low, this relationship is very weak. Also a very weak positive correlation of 0.11 is shown between heart disease and hypertension. This indicates a very mild relationship between hypertension and heart disease. The number suggests that while there might be a slight trend where people with hypertension are more likely to have heart disease, the strength of the association is minimal. the value 0.32 between bmi and age  indicates a moderate positive correlation, meaning that, in general, as age increases, BMI tends to increase as well, but the relationship isn't very strong.\n"
   ]
  },
  {
   "cell_type": "code",
   "execution_count": null,
   "id": "960523f0",
   "metadata": {
    "scrolled": true
   },
   "outputs": [],
   "source": [
    "# Pair Plot for Detailed Pairwise Relationships\n",
    "sns.pairplot(data, hue=\"stroke\", palette=\"Set1\", diag_kind=\"kde\", markers=[\"o\", \"s\"])\n",
    "plt.title(\"Pair Plot of Numerical Variables Grouped by Stroke\", y=1.02)\n",
    "plt.show()\n"
   ]
  },
  {
   "cell_type": "markdown",
   "id": "95f678d2",
   "metadata": {},
   "source": [
    "#### People with certain ranges in age and glucose might be at higher stroke risk, visible as clusters in the plot."
   ]
  },
  {
   "cell_type": "code",
   "execution_count": null,
   "id": "12486010",
   "metadata": {},
   "outputs": [],
   "source": [
    "\n",
    "#This scatter plot can help identify any trends in glucose levels across different ages, with a particular focus on individuals who have had a stroke.\n",
    "plt.figure(figsize=(10, 6))\n",
    "sns.scatterplot(x='age', y='avg_glucose_level', hue='stroke', data=data, palette=\"coolwarm\", edgecolor=\"w\", s=100)\n",
    "plt.title(\"Age vs. Avg Glucose Level (Colored by Stroke)\")\n",
    "plt.xlabel(\"Age\")\n",
    "plt.ylabel(\"Avg Glucose Level\")\n",
    "plt.legend(title=\"Stroke\", loc=\"upper right\")\n",
    "plt.show()\n"
   ]
  },
  {
   "cell_type": "markdown",
   "id": "bf937b69",
   "metadata": {},
   "source": [
    "#### Plot Shows if age and glucose levels are related to stroke. Higher glucose levels in older individuals appear more often in stroke cases.High glucose in older individuals might be an indicator for stroke risk"
   ]
  },
  {
   "cell_type": "code",
   "execution_count": null,
   "id": "bddc96bc",
   "metadata": {},
   "outputs": [],
   "source": [
    "\n",
    "#This plot will help reveal any relationship between age and BMI, and indicate if heart disease occurrences increase with age or BMI.\n",
    "\n",
    "plt.figure(figsize=(10, 6))\n",
    "sns.scatterplot(x='age', y='bmi', hue='heart_disease', data=data, palette=\"viridis\", edgecolor=\"w\", s=100)\n",
    "plt.title(\"BMI vs. Age (Colored by Heart Disease)\")\n",
    "plt.xlabel(\"Age\")\n",
    "plt.ylabel(\"BMI\")\n",
    "plt.legend(title=\"Heart Disease\", loc=\"upper right\")\n",
    "plt.show()\n"
   ]
  },
  {
   "cell_type": "markdown",
   "id": "adb59ba7",
   "metadata": {},
   "source": [
    "#### Plot Shows if age and BMI are related to heart disease. Higher BMI in older people might be linked to heart disease. Controlling BMI, especially in older adults, could help lower heart disease risk."
   ]
  },
  {
   "cell_type": "code",
   "execution_count": null,
   "id": "3f20f8eb",
   "metadata": {},
   "outputs": [],
   "source": [
    "# This box plot shows how average glucose levels vary between individuals who have and haven't experienced a stroke.\n",
    "plt.figure(figsize=(8, 6))\n",
    "sns.boxplot(x=\"stroke\", y=\"avg_glucose_level\", data=data, palette=\"Set2\")\n",
    "plt.title(\"Avg Glucose Level by Stroke Status\")\n",
    "plt.xlabel(\"Stroke\")\n",
    "plt.ylabel(\"Avg Glucose Level\")\n",
    "plt.show()\n"
   ]
  },
  {
   "cell_type": "markdown",
   "id": "c8f90249",
   "metadata": {},
   "source": [
    "#### Examines if glucose levels vary significantly for people with and without stroke.People with stroke tend to have higher average glucose levels. Elevated glucose could be a marker or risk factor for stroke."
   ]
  },
  {
   "cell_type": "code",
   "execution_count": null,
   "id": "d531cf91",
   "metadata": {},
   "outputs": [],
   "source": [
    "#Box Plot for BMI by Hypertension\n",
    "#A box plot can help visualize how BMI is distributed among individuals with and without hypertension.\n",
    "plt.figure(figsize=(8, 6))\n",
    "sns.boxplot(x=\"hypertension\", y=\"bmi\", data=data, palette=\"Set3\")\n",
    "plt.title(\"BMI by Hypertension Status\")\n",
    "plt.xlabel(\"Hypertension\")\n",
    "plt.ylabel(\"BMI\")\n",
    "plt.show()\n"
   ]
  },
  {
   "cell_type": "markdown",
   "id": "0f144c1a",
   "metadata": {},
   "source": [
    "#### Shows if BMI is different in people with and without hypertension. People with hypertension tend to have higher BMI values. Higher BMI may contribute to hypertension risk, highlighting weight management’s importance."
   ]
  },
  {
   "cell_type": "code",
   "execution_count": null,
   "id": "d5b0da68",
   "metadata": {},
   "outputs": [],
   "source": [
    "#  Violin Plot for Age Distribution by Stroke Status\n",
    "#Violin plots combine aspects of box plots and KDE plots, showing the distribution, density, and range of a variable across categories.\n",
    "plt.figure(figsize=(8, 6))\n",
    "sns.violinplot(x=\"stroke\", y=\"age\", data=data, palette=\"pastel\", split=True)\n",
    "plt.title(\"Age Distribution by Stroke Status\")\n",
    "plt.xlabel(\"Stroke\")\n",
    "plt.ylabel(\"Age\")\n",
    "plt.show()\n"
   ]
  },
  {
   "cell_type": "markdown",
   "id": "39270b1b",
   "metadata": {},
   "source": [
    "#### Shows the age range where strokes are more common. Stroke cases seem more frequent in certain age groups, especially older adults. Age is an important factor in stroke risk, with higher incidence in older individuals."
   ]
  },
  {
   "cell_type": "markdown",
   "id": "b62ba43a",
   "metadata": {},
   "source": [
    "#### Age-Related Health Risks: Older age is linked to higher rates of stroke and heart disease.Glucose Levels and Stroke: Elevated glucose is more common in stroke cases, suggesting it’s a risk factor.BMI and Hypertension: Higher BMI often correlates with hypertension, so managing weight could lower blood pressure risks."
   ]
  },
  {
   "cell_type": "markdown",
   "id": "789c2c67-0940-474b-a39d-d76de60ea7dc",
   "metadata": {},
   "source": [
    "### 3. Box plot of numerical columns and their outlier treatment"
   ]
  },
  {
   "cell_type": "code",
   "execution_count": null,
   "id": "c4f85cbc-591d-4532-9cfa-e7fb1bcf237e",
   "metadata": {
    "scrolled": true
   },
   "outputs": [],
   "source": [
    "##Numerical Columns: ['age', 'hypertension', 'heart_disease', 'avg_glucose_level', 'bmi', 'stroke']\n",
    "\n",
    "sns.boxplot(data[numerical_cols])\n",
    "plt.title('Box plot of numerical columns')\n",
    "plt.grid(alpha=0.3)\n",
    "plt.tight_layout()\n",
    "plt.show()"
   ]
  },
  {
   "cell_type": "markdown",
   "id": "5a9facb5-15fb-4c19-8761-86d2e90e35e9",
   "metadata": {},
   "source": [
    "#### The box plot shows there are outliers present in avg_glucose_level and bmi columns. \n"
   ]
  },
  {
   "cell_type": "markdown",
   "id": "2e402796-ea67-4e73-973d-8c7a6a962859",
   "metadata": {},
   "source": [
    "###  4. Outlier removal using Z score method"
   ]
  },
  {
   "cell_type": "markdown",
   "id": "6ec551d0-78c9-46fe-86d8-439caf03e29c",
   "metadata": {},
   "source": [
    "## Z score=(x-mean)/std"
   ]
  },
  {
   "cell_type": "code",
   "execution_count": null,
   "id": "bcd41ff6-b832-4c0a-b655-763fedec927f",
   "metadata": {},
   "outputs": [],
   "source": [
    "m=data.avg_glucose_level.mean()\n",
    "m"
   ]
  },
  {
   "cell_type": "code",
   "execution_count": null,
   "id": "2ece1bc4-dd76-441d-b964-22b3b42a246a",
   "metadata": {},
   "outputs": [],
   "source": [
    "s=data.avg_glucose_level.std()\n",
    "s"
   ]
  },
  {
   "cell_type": "code",
   "execution_count": null,
   "id": "8ac7d62b-3c05-492e-a378-95c707a742ce",
   "metadata": {},
   "outputs": [],
   "source": [
    "data[\"Zscore\"]= (data.avg_glucose_level-m)/s\n",
    "data"
   ]
  },
  {
   "cell_type": "code",
   "execution_count": null,
   "id": "afafac98-b6f9-48a8-b8dc-24d76e325b79",
   "metadata": {},
   "outputs": [],
   "source": [
    "data_without_outliers=data[(data.Zscore > -3) & (data.Zscore < 3)]  ## data without outliers\n",
    "data_without_outliers"
   ]
  },
  {
   "cell_type": "code",
   "execution_count": null,
   "id": "ae689541-92f3-4c2f-b53e-caef3ddda0cb",
   "metadata": {},
   "outputs": [],
   "source": [
    "sns.boxplot(data_without_outliers['avg_glucose_level'])\n",
    "plt.title(\"Glucose level column after removing outliers\")\n",
    "plt.show()\n"
   ]
  },
  {
   "cell_type": "code",
   "execution_count": null,
   "id": "4e378437-afc3-4205-91cc-eb198489cb31",
   "metadata": {},
   "outputs": [],
   "source": [
    "m=data.bmi.mean()\n",
    "m"
   ]
  },
  {
   "cell_type": "code",
   "execution_count": null,
   "id": "a65e53b2-1460-4a56-b4da-6d0bcd34608b",
   "metadata": {},
   "outputs": [],
   "source": [
    "s=data.bmi.std()\n",
    "s"
   ]
  },
  {
   "cell_type": "code",
   "execution_count": null,
   "id": "3e3bc9c4-91f9-438d-9481-232a13c06230",
   "metadata": {},
   "outputs": [],
   "source": [
    "data[\"Zscore\"]= (data.bmi-m)/s\n",
    "data"
   ]
  },
  {
   "cell_type": "code",
   "execution_count": null,
   "id": "87dea613-8993-4b46-a362-a6e00c3a96bb",
   "metadata": {},
   "outputs": [],
   "source": [
    "data_without_outliers1=data[(data.Zscore > -3) & (data.Zscore < 3)]  ## data without outliers\n",
    "data_without_outliers1"
   ]
  },
  {
   "cell_type": "code",
   "execution_count": null,
   "id": "eda05cd7-3a8a-4323-a4f3-8744dbebe20d",
   "metadata": {},
   "outputs": [],
   "source": [
    "sns.boxplot(data_without_outliers1['bmi'])\n",
    "plt.title(\"bmi column after removing outliers\")\n",
    "plt.show()"
   ]
  },
  {
   "cell_type": "code",
   "execution_count": null,
   "id": "9e719e05-92c6-4860-90f5-233cc256d153",
   "metadata": {},
   "outputs": [],
   "source": [
    "data.drop('Zscore', axis=1, inplace=True)\n",
    "data"
   ]
  },
  {
   "cell_type": "markdown",
   "id": "4de05ba5-86cf-4675-9eb6-a0ccf5f3d2c6",
   "metadata": {},
   "source": [
    "### 5.Label encoding"
   ]
  },
  {
   "cell_type": "code",
   "execution_count": null,
   "id": "17acc522-a2c5-478a-9358-5c3cd3268d97",
   "metadata": {},
   "outputs": [],
   "source": [
    "from sklearn.preprocessing import OneHotEncoder\n",
    "from sklearn.preprocessing import StandardScaler\n",
    "from sklearn.preprocessing import MinMaxScaler"
   ]
  },
  {
   "cell_type": "code",
   "execution_count": null,
   "id": "18b01a3b-550c-4ead-8032-3826d67d002c",
   "metadata": {},
   "outputs": [],
   "source": [
    "from sklearn.preprocessing import LabelEncoder\n",
    "label_encoder = LabelEncoder()\n",
    "data['gender']=label_encoder.fit_transform(data['gender'])\n",
    "data['work_type']=label_encoder.fit_transform(data['work_type'])\n",
    "data['Residence_type']=label_encoder.fit_transform(data['Residence_type'])\n",
    "data['ever_married']=label_encoder.fit_transform(data['ever_married'])\n",
    "data['smoking_status']=label_encoder.fit_transform(data['smoking_status'])\n",
    "data"
   ]
  },
  {
   "cell_type": "markdown",
   "id": "600f9afd-f0eb-4bae-a062-3654850a093d",
   "metadata": {},
   "source": [
    "### 6. Scaling the features"
   ]
  },
  {
   "cell_type": "code",
   "execution_count": null,
   "id": "32f4f96f-253a-41b7-af44-43e0fd4bcaf7",
   "metadata": {},
   "outputs": [],
   "source": [
    "scaler = StandardScaler()\n",
    "scaler.fit(data)\n",
    "scaled_data_ss = scaler.transform(data)\n",
    "scaled_data_ss"
   ]
  },
  {
   "cell_type": "markdown",
   "id": "73e9fb8b-6139-47bd-9f67-0344a89a3686",
   "metadata": {},
   "source": [
    "### 7. Modelling the dataset"
   ]
  },
  {
   "cell_type": "code",
   "execution_count": null,
   "id": "727c331d-3ba6-4858-a395-fb9cb8f09c4c",
   "metadata": {},
   "outputs": [],
   "source": [
    "from sklearn.model_selection import train_test_split\n",
    "# Define the target and features\n",
    "X=data.drop(['stroke'],axis=1)\n",
    "y = data['stroke']\n",
    "\n",
    "# Split the data into training and testing sets\n",
    "X_train, X_test, y_train, y_test = train_test_split(X, y, test_size=0.2, random_state=42)\n"
   ]
  },
  {
   "cell_type": "code",
   "execution_count": null,
   "id": "7158c5b1-0eaa-4c6b-b344-368548a80944",
   "metadata": {},
   "outputs": [],
   "source": [
    "print(X.head())"
   ]
  },
  {
   "cell_type": "code",
   "execution_count": null,
   "id": "51279355-7dcd-4ca2-8730-cbfb57a9871e",
   "metadata": {},
   "outputs": [],
   "source": [
    "pip install scikit-learn"
   ]
  },
  {
   "cell_type": "code",
   "execution_count": null,
   "id": "cef30c96-3ebf-4edc-b720-c8a6ca65a449",
   "metadata": {},
   "outputs": [],
   "source": [
    "print(y)"
   ]
  },
  {
   "cell_type": "markdown",
   "id": "a096667f-d58e-4418-8f95-4f571c5ed03e",
   "metadata": {},
   "source": [
    "### 1. Logistic regression model"
   ]
  },
  {
   "cell_type": "code",
   "execution_count": null,
   "id": "4cf113ad-f7a1-49c5-aa5a-b767f2865f56",
   "metadata": {},
   "outputs": [],
   "source": [
    "from sklearn.linear_model import LogisticRegression\n",
    "model = LogisticRegression()"
   ]
  },
  {
   "cell_type": "code",
   "execution_count": null,
   "id": "2f4e60b4-f2f6-4914-8a3f-22c5d8b66546",
   "metadata": {},
   "outputs": [],
   "source": [
    "model.fit(X_train, y_train)"
   ]
  },
  {
   "cell_type": "code",
   "execution_count": null,
   "id": "834a587c-d72b-4cde-ba41-4582b7d82867",
   "metadata": {},
   "outputs": [],
   "source": [
    "X_test"
   ]
  },
  {
   "cell_type": "code",
   "execution_count": null,
   "id": "ec250456-b33a-4298-bea8-b89654628f53",
   "metadata": {},
   "outputs": [],
   "source": [
    "y_predicted = model.predict(X_test)"
   ]
  },
  {
   "cell_type": "code",
   "execution_count": null,
   "id": "75654381-7743-4543-81cd-5f642300c850",
   "metadata": {},
   "outputs": [],
   "source": [
    "y_predicted"
   ]
  },
  {
   "cell_type": "code",
   "execution_count": null,
   "id": "a1cd7604-2e70-4cdc-a102-fb91cb09d99b",
   "metadata": {},
   "outputs": [],
   "source": [
    "model.predict_proba(X_test)"
   ]
  },
  {
   "cell_type": "code",
   "execution_count": null,
   "id": "ad0df04e-4808-4a5f-a79d-053cf231a330",
   "metadata": {},
   "outputs": [],
   "source": [
    "model.score(X_test,y_test)"
   ]
  },
  {
   "cell_type": "code",
   "execution_count": null,
   "id": "7e2b8912-e9a6-43b6-ba03-8a87c239b92d",
   "metadata": {},
   "outputs": [],
   "source": [
    "X_test"
   ]
  },
  {
   "cell_type": "markdown",
   "id": "0afa1fe6-1739-41d9-9418-2c3171f02a2e",
   "metadata": {},
   "source": [
    "#### Predict using the model"
   ]
  },
  {
   "cell_type": "code",
   "execution_count": null,
   "id": "5ecd2252-380a-4f0e-9b12-0b0cea3a012a",
   "metadata": {},
   "outputs": [],
   "source": [
    "from sklearn.metrics import confusion_matrix\n",
    "cm = confusion_matrix(y_test, y_predicted)\n",
    "cm"
   ]
  },
  {
   "cell_type": "code",
   "execution_count": null,
   "id": "91acc140-fdd7-47e1-b496-f048b948f9bf",
   "metadata": {},
   "outputs": [],
   "source": [
    "import seaborn as sns\n",
    "plt.figure(figsize = (10,7))\n",
    "sns.heatmap(cm, annot=True)\n",
    "plt.xlabel('Predicted')\n",
    "plt.ylabel('Truth')"
   ]
  },
  {
   "cell_type": "code",
   "execution_count": null,
   "id": "8fb88c51-05de-4036-96a1-3e3c3dfca6f5",
   "metadata": {},
   "outputs": [],
   "source": [
    "# True Positives (TP)\n",
    "TP = cm[1, 1]\n",
    "\n",
    "# True Negatives (TN)\n",
    "TN = cm[0, 0]\n",
    "\n",
    "# False Positives (FP)\n",
    "FP = cm[0, 1]\n",
    "\n",
    "# False Negatives (FN)\n",
    "FN = cm[1, 0]\n",
    "\n",
    "# Accuracy\n",
    "accuracy = (TP + TN) / np.sum(cm)\n",
    "\n",
    "# Precision\n",
    "precision = TP / (TP + FP)\n",
    "\n",
    "# Recall\n",
    "recall = TP / (TP + FN)\n",
    "\n",
    "# Specificity\n",
    "specificity = TN / (TN + FP)\n",
    "\n",
    "# F1 Score\n",
    "f1_score = 2 * (precision * recall) / (precision + recall)\n",
    "\n",
    "# False Positive Rate\n",
    "false_positive_rate = FP / (FP + TN)\n",
    "\n",
    "# False Negative Rate\n",
    "false_negative_rate = FN / (FN + TP)\n",
    "\n",
    "print(\"Accuracy:\", accuracy)\n",
    "print(\"Precision:\", precision)\n",
    "print(\"Recall:\", recall)\n",
    "print(\"Specificity:\", specificity)\n",
    "print(\"F1 Score:\", f1_score)\n",
    "print(\"False Positive Rate:\", false_positive_rate)\n",
    "print(\"False Negative Rate:\", false_negative_rate)\n",
    "print(\"TP:\", TP)\n",
    "print(\"FP:\", FP)\n"
   ]
  },
  {
   "cell_type": "markdown",
   "id": "caf4998d-2598-44c5-bcb7-dc738f4c3cb0",
   "metadata": {},
   "source": [
    "##### The accuracy of 0.93 indicates that the model is correct about 93.93% of the time.model."
   ]
  },
  {
   "cell_type": "markdown",
   "id": "52f5428b-233c-424e-9c38-ea9f364853c1",
   "metadata": {},
   "source": [
    "#### 2.SVR"
   ]
  },
  {
   "cell_type": "code",
   "execution_count": null,
   "id": "94ea6230-511b-4c30-8136-5fd1cee1088a",
   "metadata": {},
   "outputs": [],
   "source": [
    "from sklearn.model_selection import train_test_split\n",
    "# Define the target and features\n",
    "X=data.drop(['stroke'],axis=1)\n",
    "y = data['stroke']\n",
    "\n",
    "# Split the data into training and testing sets\n",
    "X_train, X_test, y_train, y_test = train_test_split(X, y, test_size=0.2, random_state=42)\n"
   ]
  },
  {
   "cell_type": "code",
   "execution_count": null,
   "id": "6f8eb434-cb41-4b6a-b344-ca911443b32d",
   "metadata": {},
   "outputs": [],
   "source": [
    "from sklearn.svm import SVC\n",
    "\n",
    "svc_model=SVC(kernel='rbf',C=3)\n",
    "svc_model.fit(X_train, y_train)"
   ]
  },
  {
   "cell_type": "code",
   "execution_count": null,
   "id": "c478144f-781b-4e1e-adc3-977c7ae50fbd",
   "metadata": {},
   "outputs": [],
   "source": [
    "from sklearn.metrics import accuracy_score, precision_score, recall_score, f1_score, confusion_matrix\n",
    "\n",
    "svc_pred = svc_model.predict(X_test)\n",
    "print(\"Accuracy score :\",accuracy_score(y_test, svc_pred))\n",
    "print(\"Precision : \",precision_score(y_test,svc_pred))\n",
    "print(\"Recall : \",recall_score(y_test,svc_pred))\n",
    "print(\"F1 score : \",f1_score(y_test,svc_pred))\n",
    "print(\"Confusion matrix :\")\n",
    "print(confusion_matrix(y_test,svc_pred))"
   ]
  },
  {
   "cell_type": "code",
   "execution_count": null,
   "id": "5c60523a-4c73-4960-9b7d-088a6c96be80",
   "metadata": {},
   "outputs": [],
   "source": [
    "from sklearn.model_selection import cross_val_score\n",
    "import numpy as np\n",
    "\n",
    "scores = cross_val_score(svc_model, X_train, y_train, cv=5, scoring='f1_macro')\n",
    "\n",
    "#F1 macro computes the F1 score for each class separately and then averages them, giving equal weight to each class.\n",
    "#This is useful when you have class imbalance.\n",
    "\n",
    "# Calculate mean F1 score \n",
    "mean_f1 = np.mean(scores)\n",
    "\n",
    "print(\"5 fold cross validation\")\n",
    "print(f'Mean F1 Score: {mean_f1:.2f}')"
   ]
  },
  {
   "cell_type": "markdown",
   "id": "da3410f8-9f9e-46fe-b120-ac64a2862590",
   "metadata": {},
   "source": [
    "#### 3. Random forest classifier"
   ]
  },
  {
   "cell_type": "code",
   "execution_count": null,
   "id": "17cbc2de-4068-4641-8d14-79de17bccaec",
   "metadata": {},
   "outputs": [],
   "source": [
    "# train test split\n",
    "from sklearn.model_selection import train_test_split\n",
    "X_train, X_test, y_train, y_test= train_test_split(X,y, test_size=0.2, random_state=42)"
   ]
  },
  {
   "cell_type": "code",
   "execution_count": null,
   "id": "a9813ffa-d449-4838-a843-72630e0d0228",
   "metadata": {},
   "outputs": [],
   "source": [
    "from sklearn.tree import DecisionTreeClassifier\n",
    "from sklearn.ensemble import RandomForestClassifier,BaggingClassifier,AdaBoostClassifier,GradientBoostingClassifier\n",
    "from sklearn.metrics import accuracy_score"
   ]
  },
  {
   "cell_type": "markdown",
   "id": "4d3056d8-2b80-40e8-ac10-f2920527a14a",
   "metadata": {},
   "source": [
    "#### Decision tree model"
   ]
  },
  {
   "cell_type": "code",
   "execution_count": null,
   "id": "75b993f0-725b-472c-a6c1-6e17e3eb4ce2",
   "metadata": {},
   "outputs": [],
   "source": [
    "# fit a decision tree model\n",
    "dclf=DecisionTreeClassifier()\n",
    "dclf.fit(X_train,y_train)\n",
    "dclf_pred=dclf.predict(X_test)\n",
    "print(accuracy_score(y_test,dclf_pred))"
   ]
  },
  {
   "cell_type": "markdown",
   "id": "44a178b8-2f52-4099-a21b-b15d28788e2e",
   "metadata": {},
   "source": [
    "#### Random forest model"
   ]
  },
  {
   "cell_type": "code",
   "execution_count": null,
   "id": "c0b63a60-1090-46c0-841f-cdbe2a97073c",
   "metadata": {},
   "outputs": [],
   "source": [
    "# fit a random forest model\n",
    "# By default, n_estimators = 100 . ie, 100 number of trees in the forest.\n",
    "\n",
    "rclf=RandomForestClassifier()\n",
    "rclf.fit(X_train,y_train)\n",
    "rclf_pred=rclf.predict(X_test)\n",
    "print(accuracy_score(y_test,rclf_pred))"
   ]
  },
  {
   "cell_type": "markdown",
   "id": "35f663e4-1045-4de6-83b4-f732a41b756e",
   "metadata": {},
   "source": [
    "### 4.  adaboost classifier"
   ]
  },
  {
   "cell_type": "code",
   "execution_count": null,
   "id": "1766d447-2d23-467e-b14d-f350ee087654",
   "metadata": {},
   "outputs": [],
   "source": [
    "# Fit a AdaBoost model\n",
    "aclf=AdaBoostClassifier(n_estimators=100)\n",
    "aclf.fit(X_train,y_train)\n",
    "aclf_pred=aclf.predict(X_test)\n",
    "print(accuracy_score(y_test,aclf_pred))"
   ]
  },
  {
   "cell_type": "markdown",
   "id": "0b60de04-b8d1-476b-975b-5df7ff48297e",
   "metadata": {},
   "source": [
    "### 5. Gradient boost classifier"
   ]
  },
  {
   "cell_type": "code",
   "execution_count": null,
   "id": "2e4168ac-53b9-4c71-8aaf-7af99f7c0cb5",
   "metadata": {},
   "outputs": [],
   "source": [
    "# Fit a GradientBoosting model\n",
    "gclf=GradientBoostingClassifier(n_estimators=100)\n",
    "gclf.fit(X_train,y_train)\n",
    "gclf_pred=gclf.predict(X_test)\n",
    "print(accuracy_score(y_test,gclf_pred))"
   ]
  },
  {
   "cell_type": "code",
   "execution_count": null,
   "id": "7b56a318-ac7b-4f18-9e5e-004573a6bcc9",
   "metadata": {},
   "outputs": [],
   "source": [
    "from sklearn.metrics import accuracy_score, precision_score, recall_score, f1_score, confusion_matrix, classification_report"
   ]
  },
  {
   "cell_type": "code",
   "execution_count": null,
   "id": "18042642-c678-46ca-ad2c-e7c948578e89",
   "metadata": {},
   "outputs": [],
   "source": [
    "print(\"Precision\")\n",
    "print(\"Decision tree : \",precision_score(y_test,dclf_pred))\n",
    "print(\"Random forst : \",precision_score(y_test,rclf_pred))\n",
    "print(\"Adaboost : \",precision_score(y_test,aclf_pred))\n",
    "print(\"GradientBoost : \",precision_score(y_test,gclf_pred))\n"
   ]
  },
  {
   "cell_type": "code",
   "execution_count": null,
   "id": "e58324a9-3f55-4f98-bbb4-df01236a720e",
   "metadata": {},
   "outputs": [],
   "source": [
    "print(\"Recall\")\n",
    "print(\"Decision tree : \",recall_score(y_test,dclf_pred))\n",
    "print(\"Random forst : \",recall_score(y_test,rclf_pred))\n",
    "print(\"Adaboost : \",recall_score(y_test,aclf_pred))\n",
    "print(\"GradientBoost : \",recall_score(y_test,gclf_pred))\n"
   ]
  },
  {
   "cell_type": "code",
   "execution_count": null,
   "id": "f102ca29-ac3c-44fb-b5da-10f38a086c66",
   "metadata": {},
   "outputs": [],
   "source": [
    "print(\"F1 score\")\n",
    "print(\"Decision tree : \",f1_score(y_test,dclf_pred))\n",
    "print(\"Random forst : \",f1_score(y_test,rclf_pred))\n",
    "print(\"Adaboost : \",f1_score(y_test,aclf_pred))\n",
    "print(\"GradientBoost : \",f1_score(y_test,gclf_pred))\n"
   ]
  },
  {
   "cell_type": "code",
   "execution_count": null,
   "id": "8d3bec4a-5d1a-4acd-8aad-d54f8246b27a",
   "metadata": {},
   "outputs": [],
   "source": [
    "print(\"confusion matrix\")\n",
    "print(\"Decision tree : \")\n",
    "print(confusion_matrix(y_test,dclf_pred))\n",
    "print(\"Random forst : \")\n",
    "print(confusion_matrix(y_test,rclf_pred))\n",
    "print(\"Adaboost : \")\n",
    "print(confusion_matrix(y_test,aclf_pred))\n",
    "print(\"GradientBoost : \")\n",
    "print(confusion_matrix(y_test,gclf_pred))\n"
   ]
  },
  {
   "cell_type": "code",
   "execution_count": null,
   "id": "3dc74cb5-ae62-42ca-9af6-0f837aed95a3",
   "metadata": {},
   "outputs": [],
   "source": [
    "print(\"classification_report\")\n",
    "print(\"Decision tree : \")\n",
    "print(classification_report(y_test,dclf_pred))\n",
    "print(\"Random forst : \")\n",
    "print(classification_report(y_test,rclf_pred))\n",
    "print(\"Adaboost : \")\n",
    "print(classification_report(y_test,aclf_pred))\n",
    "print(\"GradientBoost : \")\n",
    "print(classification_report(y_test,gclf_pred))\n"
   ]
  },
  {
   "cell_type": "markdown",
   "id": "670fd230-5420-41d1-ac0a-5fdbf2bbf4c2",
   "metadata": {},
   "source": [
    "#### ROC curves\n"
   ]
  },
  {
   "cell_type": "markdown",
   "id": "ccdc7286-68cd-4d08-9554-3093001123e0",
   "metadata": {},
   "source": [
    "#### ROC curve for Logistic Regression and Random forest classifier"
   ]
  },
  {
   "cell_type": "code",
   "execution_count": null,
   "id": "99dadeca-65c2-4e23-a342-355508f4f5ee",
   "metadata": {},
   "outputs": [],
   "source": [
    "from sklearn.metrics import roc_auc_score\n"
   ]
  },
  {
   "cell_type": "code",
   "execution_count": null,
   "id": "94ba75d8-8f45-474e-9161-54e09c885433",
   "metadata": {},
   "outputs": [],
   "source": [
    "X_train, X_test, y_train, y_test = train_test_split(X, y, test_size=0.2, random_state=42)\n"
   ]
  },
  {
   "cell_type": "code",
   "execution_count": null,
   "id": "aca16551-6475-434a-a4d2-ce4053ba4682",
   "metadata": {},
   "outputs": [],
   "source": [
    "# Initialize classifiers\n",
    "classifier1 = LogisticRegression()\n",
    "classifier2 = RandomForestClassifier()\n",
    "\n",
    "# Fit classifiers on training data\n",
    "classifier1.fit(X_train, y_train)\n",
    "classifier2.fit(X_train, y_train)\n",
    "\n",
    "# Predict probabilities on test data\n",
    "probs1 = classifier1.predict_proba(X_test)[:, 1]\n",
    "probs2 = classifier2.predict_proba(X_test)[:, 1]\n",
    "\n",
    "# Calculate AUC for classifier 1\n",
    "auc1 = roc_auc_score(y_test, probs1)\n",
    "\n",
    "# Calculate AUC for classifier 2\n",
    "auc2 = roc_auc_score(y_test, probs2)\n",
    "\n",
    "print(\"AUC for Classifier 1:\", auc1)\n",
    "print(\"AUC for Classifier 2:\", auc2)\n"
   ]
  },
  {
   "cell_type": "code",
   "execution_count": null,
   "id": "cc32a286-9878-4bdf-aa96-b9b8d9a243d6",
   "metadata": {},
   "outputs": [],
   "source": [
    "import matplotlib.pyplot as plt\n",
    "from sklearn.metrics import roc_curve\n",
    "\n",
    "# Compute ROC curve for classifier 1\n",
    "fpr1, tpr1, _ = roc_curve(y_test, probs1)\n",
    "\n",
    "# Compute ROC curve for classifier 2\n",
    "fpr2, tpr2, _ = roc_curve(y_test, probs2)\n",
    "\n",
    "# Plot ROC curves\n",
    "plt.figure(figsize=(8, 6))\n",
    "plt.plot(fpr1, tpr1, label='Classifier 1 (AUC = {:.2f})'.format(auc1))\n",
    "plt.plot(fpr2, tpr2, label='Classifier 2 (AUC = {:.2f})'.format(auc2))\n",
    "plt.plot([0, 1], [0, 1], 'k--')  # Diagonal line\n",
    "plt.xlabel('False Positive Rate')\n",
    "plt.ylabel('True Positive Rate')\n",
    "plt.title('ROC Curve')\n",
    "plt.legend(loc='lower right')\n",
    "plt.grid(True)\n",
    "plt.show()\n"
   ]
  },
  {
   "cell_type": "markdown",
   "id": "68c39cda-fe09-47b7-9d12-29c0605e4834",
   "metadata": {},
   "source": [
    "###### Classifier 1 (AUC = 0.84): Shows strong  discrimination capability.\n",
    "\n",
    "###### Classifier 2 (AUC = 0.82): Also performs well but is slightly less effective than Classifier 1.\n",
    "\n",
    "###### The classifiers are effective for stroke prediction."
   ]
  },
  {
   "cell_type": "code",
   "execution_count": null,
   "id": "f62dec00-8373-45b3-b500-cdaa0d845c86",
   "metadata": {},
   "outputs": [],
   "source": [
    "from sklearn.metrics import roc_curve, auc\n",
    "\n",
    "# Predict decision function scores\n",
    "y_scores = svc_model.decision_function(X_test)\n",
    "\n",
    "# Compute ROC curve and AUC\n",
    "fpr, tpr, thresholds = roc_curve(y_test, y_scores)\n",
    "roc_auc = auc(fpr, tpr)\n",
    "\n",
    "# Plot ROC curve\n",
    "plt.figure()\n",
    "plt.plot(fpr, tpr, color='darkorange', lw=2, label=f'ROC curve (AUC = {roc_auc:.2f})')\n",
    "plt.plot([0, 1], [0, 1], color='navy', lw=2, linestyle='--')\n",
    "plt.xlabel('False Positive Rate')\n",
    "plt.ylabel('True Positive Rate')\n",
    "plt.title('ROC Curve for SVC')\n",
    "plt.legend(loc=\"lower right\")\n",
    "plt.show()\n"
   ]
  },
  {
   "cell_type": "markdown",
   "id": "b2b5114d-d530-4ef9-aed2-118209a78b8d",
   "metadata": {},
   "source": [
    "##### Here AUC = 0.63. An AUC (Area Under the Curve) of 0.63 means that the model has a 63% chance of ranking a randomly chosen positive instance higher than a randomly chosen negative instance. This model has some predictive ability, but it's relatively weak.\n"
   ]
  },
  {
   "cell_type": "markdown",
   "id": "c53c2d55-0142-46ab-bb24-e1f709c9f9e1",
   "metadata": {},
   "source": [
    "### ROC curve for adaboost classifier"
   ]
  },
  {
   "cell_type": "code",
   "execution_count": null,
   "id": "1a326e85-605d-45b1-bb46-ca5dedeaf3af",
   "metadata": {},
   "outputs": [],
   "source": [
    "y_scores = aclf.predict_proba(X_test)[:, 1]\n"
   ]
  },
  {
   "cell_type": "code",
   "execution_count": null,
   "id": "1e48597f-dcab-47a1-ab16-f9ce7597bfd1",
   "metadata": {},
   "outputs": [],
   "source": [
    "fpr, tpr, thresholds = roc_curve(y_test, y_scores)\n",
    "roc_auc = auc(fpr, tpr)"
   ]
  },
  {
   "cell_type": "code",
   "execution_count": null,
   "id": "7a5cf869-2b33-4c87-80dc-38e16f172fca",
   "metadata": {},
   "outputs": [],
   "source": [
    "plt.figure()\n",
    "plt.plot(fpr, tpr, color='darkorange', lw=2, label=f'ROC curve (AUC = {roc_auc:.2f})')\n",
    "plt.plot([0, 1], [0, 1], color='navy', lw=2, linestyle='--')\n",
    "plt.xlabel('False Positive Rate')\n",
    "plt.ylabel('True Positive Rate')\n",
    "plt.title('ROC Curve for AdaBoost Classifier')\n",
    "plt.legend(loc=\"lower right\")\n",
    "plt.show()"
   ]
  },
  {
   "cell_type": "markdown",
   "id": "a36f70dc-6d64-4f73-8208-832e7880aee6",
   "metadata": {
    "jp-MarkdownHeadingCollapsed": true
   },
   "source": [
    "###### If a ROC curve is above the threshold margin, it means the model is performing better than a random guess and can distinguish between positive \n",
    "\n",
    "###### and negative classes to a certain degree; the higher the curve is above the threshold, the better the model's performance is considered to be. ###### Here with an AUC of 0.78 ada boost classifier model can classify the existence of stroke to a better  level   but not as much good as random forest and logistic regression.(better than random but not perfect). \n"
   ]
  },
  {
   "cell_type": "markdown",
   "id": "1929309d-565b-43af-a84f-9390f074fc67",
   "metadata": {},
   "source": [
    "### ROC curve for  Gradient boost classifier"
   ]
  },
  {
   "cell_type": "code",
   "execution_count": null,
   "id": "b0538115-7ee2-4e2a-ba69-1e2abfe7c9db",
   "metadata": {},
   "outputs": [],
   "source": [
    "# Get probability scores for the positive class\n",
    "y_scores = gclf.predict_proba(X_test)[:, 1]\n",
    "\n",
    "# Compute ROC curve and AUC\n",
    "fpr, tpr, thresholds = roc_curve(y_test, y_scores)\n",
    "roc_auc = auc(fpr, tpr)\n",
    "# Plot ROC curve\n",
    "plt.figure()\n",
    "plt.plot(fpr, tpr, color='darkorange', lw=2, label=f'ROC curve (AUC = {roc_auc:.2f})')\n",
    "plt.plot([0, 1], [0, 1], color='navy', lw=2, linestyle='--')\n",
    "plt.xlabel('False Positive Rate')\n",
    "plt.ylabel('True Positive Rate')\n",
    "plt.title('ROC Curve for Gradient Boosting Classifier')\n",
    "plt.legend(loc=\"lower right\")\n",
    "plt.show()\n"
   ]
  },
  {
   "cell_type": "markdown",
   "id": "1e754afe-fc6e-4913-a032-20bc3c66a846",
   "metadata": {},
   "source": [
    "###### Here also  AUC of 0.83 suggests that the model has a good ability to discriminate between the positive and negative classes."
   ]
  },
  {
   "cell_type": "markdown",
   "id": "5efa29f3-5675-4185-9f1b-d0965106531c",
   "metadata": {},
   "source": [
    "#### From the above ROC curves, it is evident that the Logistic regression model is the best model to determine if there is possibility of stroke  or not based on the features. "
   ]
  },
  {
   "cell_type": "markdown",
   "id": "6b9f2f75-ec38-4ec0-8c18-0cff4723554d",
   "metadata": {},
   "source": [
    "### Conclusion"
   ]
  },
  {
   "cell_type": "markdown",
   "id": "1f09737f-1b35-4d34-8591-92f0ff862760",
   "metadata": {},
   "source": [
    "#### The findings emphasize the importance of monitoring key risk factors such as hypertension, heart disease, and glucose levels when assessing stroke risk.These variables, along with demographic factors like age, marital status, and smoking habits, are significant predictors of stroke occurrence. All the features, in one way or other are interrelated to predict the occurence of stroke. This analysis can guide preventive measures and help in the development of targeted healthcare interventions.                                             \n",
    "                                                                                                                                                                                               "
   ]
  },
  {
   "cell_type": "markdown",
   "id": "d4f7e2e3-349b-45b7-a2af-eabd0513bf65",
   "metadata": {},
   "source": [
    "### Suggestions"
   ]
  },
  {
   "cell_type": "markdown",
   "id": "23ffc601-2580-43eb-ac4c-17e2201aa14a",
   "metadata": {},
   "source": [
    "#### Future work could focus on improving predictive models by integrating more data and exploring other machine learning techniques for enhanced stroke prediction."
   ]
  },
  {
   "cell_type": "code",
   "execution_count": null,
   "id": "6b252b93-a952-41ec-b283-26807fb62d6f",
   "metadata": {},
   "outputs": [],
   "source": []
  },
  {
   "cell_type": "code",
   "execution_count": null,
   "id": "e7520e1c-f8ba-4363-9033-3a6b5bf736a8",
   "metadata": {},
   "outputs": [],
   "source": []
  }
 ],
 "metadata": {
  "kernelspec": {
   "display_name": "Python 3 (ipykernel)",
   "language": "python",
   "name": "python3"
  },
  "language_info": {
   "codemirror_mode": {
    "name": "ipython",
    "version": 3
   },
   "file_extension": ".py",
   "mimetype": "text/x-python",
   "name": "python",
   "nbconvert_exporter": "python",
   "pygments_lexer": "ipython3",
   "version": "3.11.5"
  }
 },
 "nbformat": 4,
 "nbformat_minor": 5
}
